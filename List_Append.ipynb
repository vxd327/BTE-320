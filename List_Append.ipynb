{
  "nbformat": 4,
  "nbformat_minor": 0,
  "metadata": {
    "colab": {
      "provenance": [],
      "authorship_tag": "ABX9TyOs21/MDKXinkY72hu2/14K",
      "include_colab_link": true
    },
    "kernelspec": {
      "name": "python3",
      "display_name": "Python 3"
    },
    "language_info": {
      "name": "python"
    }
  },
  "cells": [
    {
      "cell_type": "markdown",
      "metadata": {
        "id": "view-in-github",
        "colab_type": "text"
      },
      "source": [
        "<a href=\"https://colab.research.google.com/github/vxd327/BTE-320/blob/main/List_Append.ipynb\" target=\"_parent\"><img src=\"https://colab.research.google.com/assets/colab-badge.svg\" alt=\"Open In Colab\"/></a>"
      ]
    },
    {
      "cell_type": "code",
      "execution_count": 1,
      "metadata": {
        "id": "fxXmM06DvMiJ"
      },
      "outputs": [],
      "source": [
        "L=[1,'two',3.0,print,[5,7,9]]"
      ]
    },
    {
      "cell_type": "code",
      "source": [
        "L+['three']\n",
        "L = [1, 'two', 3.0, print, [5, 7, 9], 'three']"
      ],
      "metadata": {
        "id": "i6mKVsdxvqJr"
      },
      "execution_count": 4,
      "outputs": []
    },
    {
      "cell_type": "code",
      "source": [
        "L.pop(2)\n",
        "L"
      ],
      "metadata": {
        "id": "SATwh_Hi0xQ-"
      },
      "execution_count": null,
      "outputs": []
    },
    {
      "cell_type": "code",
      "source": [
        "L.append('three')\n",
        "L"
      ],
      "metadata": {
        "id": "dTSR8OdXwEUb"
      },
      "execution_count": null,
      "outputs": []
    },
    {
      "cell_type": "code",
      "source": [
        "L=[]\n",
        "number= int(input('Enter a value:'))\n",
        "\n",
        "while number !=0:\n",
        "  L.append(number)\n",
        "  number= int(input('enter value:'))\n",
        "  print(L)"
      ],
      "metadata": {
        "id": "vtlXlUIqyr0D"
      },
      "execution_count": null,
      "outputs": []
    }
  ]
}