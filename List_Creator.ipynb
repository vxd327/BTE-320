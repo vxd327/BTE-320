{
  "nbformat": 4,
  "nbformat_minor": 0,
  "metadata": {
    "colab": {
      "provenance": [],
      "authorship_tag": "ABX9TyN3W/5uSxyua8N8hWoTaFH7",
      "include_colab_link": true
    },
    "kernelspec": {
      "name": "python3",
      "display_name": "Python 3"
    },
    "language_info": {
      "name": "python"
    }
  },
  "cells": [
    {
      "cell_type": "markdown",
      "metadata": {
        "id": "view-in-github",
        "colab_type": "text"
      },
      "source": [
        "<a href=\"https://colab.research.google.com/github/vxd327/BTE-320/blob/main/List_Creator.ipynb\" target=\"_parent\"><img src=\"https://colab.research.google.com/assets/colab-badge.svg\" alt=\"Open In Colab\"/></a>"
      ]
    },
    {
      "cell_type": "code",
      "source": [
        "L = []\n",
        "\n",
        "number = int(input('Enter a value: '))\n",
        "\n",
        "while number !=0:\n",
        "  L.append(number)\n",
        "  number = int(input('Enter a value:'))\n",
        "L"
      ],
      "metadata": {
        "colab": {
          "base_uri": "https://localhost:8080/"
        },
        "id": "fPM6P79EsGl8",
        "outputId": "451766f3-082a-4d44-8236-793249294fd4"
      },
      "execution_count": null,
      "outputs": [
        {
          "name": "stdout",
          "output_type": "stream",
          "text": [
            "Enter a value: 12\n",
            "Enter a value:14\n",
            "Enter a value:22\n",
            "Enter a value:55\n",
            "Enter a value:0\n"
          ]
        },
        {
          "output_type": "execute_result",
          "data": {
            "text/plain": [
              "[12, 14, 22, 55]"
            ]
          },
          "metadata": {},
          "execution_count": 3
        }
      ]
    },
    {
      "cell_type": "code",
      "execution_count": null,
      "metadata": {
        "colab": {
          "base_uri": "https://localhost:8080/"
        },
        "id": "rFDsc-ND1eNV",
        "outputId": "13bac5fa-c790-401f-eb63-95b0f527b44c"
      },
      "outputs": [
        {
          "output_type": "stream",
          "name": "stdout",
          "text": [
            "Enter an item to add to the list (or 'done' to finish): Apples\n",
            "Enter an item to add to the list (or 'done' to finish): bananas\n",
            "Enter an item to add to the list (or 'done' to finish): grapefruit\n",
            "Enter an item to add to the list (or 'done' to finish): strawberries\n",
            "Enter an item to add to the list (or 'done' to finish): grapes\n",
            "Enter an item to add to the list (or 'done' to finish): mango\n",
            "Enter an item to add to the list (or 'done' to finish): cucumber\n",
            "Enter an item to add to the list (or 'done' to finish): carrots\n",
            "Enter an item to add to the list (or 'done' to finish): water\n",
            "Enter an item to add to the list (or 'done' to finish): redbull\n",
            "Enter an item to add to the list (or 'done' to finish): done\n",
            "Your list: ['Apples', 'bananas', 'grapefruit', 'strawberries', 'grapes', 'mango', 'cucumber', 'carrots', 'water', 'redbull']\n"
          ]
        }
      ],
      "source": [
        "def create_list():\n",
        "    my_list = []\n",
        "    while True:\n",
        "        item = input(\"Enter an item to add to the list (or 'done' to finish): \")\n",
        "        if item.lower() == 'done':\n",
        "            break\n",
        "        else:\n",
        "            my_list.append(item)\n",
        "    return my_list\n",
        "\n",
        "# Example usage\n",
        "result_list = create_list()\n",
        "print(\"Your list:\", result_list)\n"
      ]
    }
  ]
}