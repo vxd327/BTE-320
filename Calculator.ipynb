{
  "nbformat": 4,
  "nbformat_minor": 0,
  "metadata": {
    "colab": {
      "provenance": [],
      "authorship_tag": "ABX9TyNPx5B3cZL03YZuVRC49H3F",
      "include_colab_link": true
    },
    "kernelspec": {
      "name": "python3",
      "display_name": "Python 3"
    },
    "language_info": {
      "name": "python"
    }
  },
  "cells": [
    {
      "cell_type": "markdown",
      "metadata": {
        "id": "view-in-github",
        "colab_type": "text"
      },
      "source": [
        "<a href=\"https://colab.research.google.com/github/vxd327/BTE-320/blob/main/Calculator.ipynb\" target=\"_parent\"><img src=\"https://colab.research.google.com/assets/colab-badge.svg\" alt=\"Open In Colab\"/></a>"
      ]
    },
    {
      "cell_type": "code",
      "source": [
        "while True:w\n",
        "  num1 = float(input(\"Enter first number:\"))\n",
        "  num2 = float(input(\"Enter second number:\"))\n",
        "  operator = input('Enter the operator:')\n",
        "\n",
        "  if operator == 'break':\n",
        "    break\n",
        "\n",
        "  if operator == \"+\":\n",
        "    answer = num1 + num2\n",
        "  elif operator == \"-\":\n",
        "    answer = num1 - num2\n",
        "  elif operator == \"*\":\n",
        "    answer = num1 * num2\n",
        "  elif operator == \"/\":\n",
        "    answer = num1 / num2\n",
        "  elif operator == \"//\":\n",
        "    answer = num1 // num2\n",
        "  elif operator == \"**\":\n",
        "    answer = num1 ** num2\n",
        "  elif operator == \"%\":\n",
        "    answer = num1 % num2\n",
        "  else:\n",
        "    print('invalid operator:',operator)\n",
        "    continue\n",
        "\n",
        "  print('result:', answer)"
      ],
      "metadata": {
        "colab": {
          "base_uri": "https://localhost:8080/"
        },
        "id": "Yp6NGAjcp3AI",
        "outputId": "3fb02691-4502-4bcb-8aa6-98e9d83fcb7c"
      },
      "execution_count": null,
      "outputs": [
        {
          "name": "stdout",
          "output_type": "stream",
          "text": [
            "Enter first number:12\n",
            "Enter second number:22\n",
            "Enter the operator:2\n",
            "invalid operator: 2\n",
            "Enter first number:22\n",
            "Enter second number:12\n",
            "Enter the operator:12\n",
            "invalid operator: 12\n",
            "Enter first number:12\n",
            "Enter second number:22\n"
          ]
        }
      ]
    }
  ]
}