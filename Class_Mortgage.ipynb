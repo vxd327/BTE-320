{
  "nbformat": 4,
  "nbformat_minor": 0,
  "metadata": {
    "colab": {
      "provenance": [],
      "authorship_tag": "ABX9TyPCGblNrf3hEPqpZ22Dkvwr",
      "include_colab_link": true
    },
    "kernelspec": {
      "name": "python3",
      "display_name": "Python 3"
    },
    "language_info": {
      "name": "python"
    }
  },
  "cells": [
    {
      "cell_type": "markdown",
      "metadata": {
        "id": "view-in-github",
        "colab_type": "text"
      },
      "source": [
        "<a href=\"https://colab.research.google.com/github/vxd327/BTE-320/blob/main/Class_Mortgage.ipynb\" target=\"_parent\"><img src=\"https://colab.research.google.com/assets/colab-badge.svg\" alt=\"Open In Colab\"/></a>"
      ]
    },
    {
      "cell_type": "code",
      "execution_count": 14,
      "metadata": {
        "id": "h_G80aRX-uz9"
      },
      "outputs": [],
      "source": [
        "class Mortgage:\n",
        "  def __init__(self, amount, maturity, interest):\n",
        "    self.amount = amount\n",
        "    self.maturity = maturity\n",
        "    self.__interest = interest\n",
        "\n",
        "  def __str__(self):\n",
        "    return f'Mortgage info:\\n Initial loan amount: {self.amount} $\\n Maturity term: {self.maturity} years\\n Interest rate: {self.__interest}%'\n",
        "\n",
        "  def get_interest(self):\n",
        "    return self.__interest\n",
        "\n",
        "  def set_interest(self, newInterest):\n",
        "    if newInterest >= 0:\n",
        "      self.__interest = newInterest\n",
        "    else:\n",
        "      print('Interest must be non-negative!')\n",
        "\n",
        "  def payment(self):\n",
        "    B = self.amount\n",
        "    r = self.__interest / 100\n",
        "    n = self.maturity * 12\n",
        "    return B * (r*(1+r)**n) / ((1+r)**n-1)\n",
        "\n"
      ]
    },
    {
      "cell_type": "code",
      "source": [
        "m = Mortgage(1000000, 30, 6)\n",
        "\n",
        "m.set_interest(-5)\n",
        "m.get_interest()"
      ],
      "metadata": {
        "colab": {
          "base_uri": "https://localhost:8080/"
        },
        "id": "qcBQaQnZvxyv",
        "outputId": "fdcc1358-ebef-482d-a506-dc140d4ab302"
      },
      "execution_count": 15,
      "outputs": [
        {
          "output_type": "stream",
          "name": "stdout",
          "text": [
            "Interest must be non-negative!\n"
          ]
        },
        {
          "output_type": "execute_result",
          "data": {
            "text/plain": [
              "6"
            ]
          },
          "metadata": {},
          "execution_count": 15
        }
      ]
    },
    {
      "cell_type": "code",
      "source": [
        "print(m)"
      ],
      "metadata": {
        "colab": {
          "base_uri": "https://localhost:8080/"
        },
        "id": "bwbVfARRf1SZ",
        "outputId": "3e73c649-4a90-4355-cc51-65503edd7290"
      },
      "execution_count": 16,
      "outputs": [
        {
          "output_type": "stream",
          "name": "stdout",
          "text": [
            "Mortgage info:\n",
            " Initial loan amount: 1000000 $\n",
            " Maturity term: 30 years\n",
            " Interest rate: 6%\n"
          ]
        }
      ]
    },
    {
      "cell_type": "code",
      "source": [
        "class A:\n",
        "    def __init__(self, obj):\n",
        "        self.obj = obj\n",
        "\n",
        "    def whoAmI(self):\n",
        "        print('I am an instance of class A')\n",
        "\n",
        "    def __str__(self):\n",
        "      return f\"<attribute value: {self.obj}\"\n",
        "\n",
        "    def __eq(self, other):\n",
        "      return self.obj == other.obj\n",
        "\n",
        "    def __add__(self, other):\n",
        "      return self.obj + other.obj\n",
        "\n",
        "class B:\n",
        "    def __init__(self, obj):\n",
        "        self.obj = obj\n",
        "\n",
        "    def whoAmI(self):\n",
        "        print('I am an instance of class B')\n",
        "\n",
        "\n",
        "a1 = A(2)\n",
        "a2 = A(5)\n",
        "b = B(4)\n"
      ],
      "metadata": {
        "id": "yxVcEHP6AOqV"
      },
      "execution_count": null,
      "outputs": []
    },
    {
      "cell_type": "code",
      "source": [
        "b.whoAmI()"
      ],
      "metadata": {
        "colab": {
          "base_uri": "https://localhost:8080/"
        },
        "id": "9V2_Vyl9ATxB",
        "outputId": "8513665d-0912-4aaa-b3ab-f3e7e03ad3fe"
      },
      "execution_count": null,
      "outputs": [
        {
          "output_type": "stream",
          "name": "stdout",
          "text": [
            "I am an instance of class B\n"
          ]
        }
      ]
    },
    {
      "cell_type": "code",
      "source": [
        "print(a)"
      ],
      "metadata": {
        "colab": {
          "base_uri": "https://localhost:8080/"
        },
        "id": "YfjDnavjAlZJ",
        "outputId": "725b45ca-6a3b-4f38-d69c-7278386d43c0"
      },
      "execution_count": null,
      "outputs": [
        {
          "output_type": "stream",
          "name": "stdout",
          "text": [
            "<attribute value: 2\n"
          ]
        }
      ]
    },
    {
      "cell_type": "code",
      "source": [
        "a1 != a2"
      ],
      "metadata": {
        "colab": {
          "base_uri": "https://localhost:8080/"
        },
        "id": "A8ntaiaxBRfP",
        "outputId": "fd30626d-7e2b-4fc7-979d-a3200918fc25"
      },
      "execution_count": null,
      "outputs": [
        {
          "output_type": "execute_result",
          "data": {
            "text/plain": [
              "True"
            ]
          },
          "metadata": {},
          "execution_count": 16
        }
      ]
    },
    {
      "cell_type": "code",
      "source": [
        "a1 + a2"
      ],
      "metadata": {
        "colab": {
          "base_uri": "https://localhost:8080/"
        },
        "id": "LfaRIi8uBlGL",
        "outputId": "233b5d81-7ff5-4450-e625-3fbb2d247ec2"
      },
      "execution_count": null,
      "outputs": [
        {
          "output_type": "execute_result",
          "data": {
            "text/plain": [
              "7"
            ]
          },
          "metadata": {},
          "execution_count": 20
        }
      ]
    }
  ]
}