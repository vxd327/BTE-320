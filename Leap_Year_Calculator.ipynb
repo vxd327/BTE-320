{
  "nbformat": 4,
  "nbformat_minor": 0,
  "metadata": {
    "colab": {
      "provenance": [],
      "authorship_tag": "ABX9TyPDN9tujxmNSk0fER1ONQQi",
      "include_colab_link": true
    },
    "kernelspec": {
      "name": "python3",
      "display_name": "Python 3"
    },
    "language_info": {
      "name": "python"
    }
  },
  "cells": [
    {
      "cell_type": "markdown",
      "metadata": {
        "id": "view-in-github",
        "colab_type": "text"
      },
      "source": [
        "<a href=\"https://colab.research.google.com/github/vxd327/BTE-320/blob/main/Leap_Year_Calculator.ipynb\" target=\"_parent\"><img src=\"https://colab.research.google.com/assets/colab-badge.svg\" alt=\"Open In Colab\"/></a>"
      ]
    },
    {
      "cell_type": "code",
      "execution_count": null,
      "metadata": {
        "id": "1bpuY5X-yBtI",
        "outputId": "7d71dd45-5cbc-4e97-bf73-7619c5a5eff0",
        "colab": {
          "base_uri": "https://localhost:8080/"
        }
      },
      "outputs": [
        {
          "output_type": "stream",
          "name": "stdout",
          "text": [
            "Enter a year: 2024\n",
            "2024 is a leap year!\n"
          ]
        }
      ],
      "source": [
        "year = int(input(\"Enter a year: \"))\n",
        "\n",
        "if (year % 4 == 0 and year % 100 != 0) or (year % 400 == 0):\n",
        "    print(f\"{year} is a leap year!\")\n",
        "else:\n",
        "    print(f\"{year} is not a leap year.\")"
      ]
    }
  ]
}