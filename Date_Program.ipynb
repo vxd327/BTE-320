{
  "nbformat": 4,
  "nbformat_minor": 0,
  "metadata": {
    "colab": {
      "provenance": [],
      "authorship_tag": "ABX9TyN7yfxjvng4QEVPPQCXLtiG",
      "include_colab_link": true
    },
    "kernelspec": {
      "name": "python3",
      "display_name": "Python 3"
    },
    "language_info": {
      "name": "python"
    }
  },
  "cells": [
    {
      "cell_type": "markdown",
      "metadata": {
        "id": "view-in-github",
        "colab_type": "text"
      },
      "source": [
        "<a href=\"https://colab.research.google.com/github/vxd327/BTE-320/blob/main/Date_Program.ipynb\" target=\"_parent\"><img src=\"https://colab.research.google.com/assets/colab-badge.svg\" alt=\"Open In Colab\"/></a>"
      ]
    },
    {
      "cell_type": "code",
      "execution_count": null,
      "metadata": {
        "colab": {
          "base_uri": "https://localhost:8080/"
        },
        "id": "RKEZ-n7DwtiY",
        "outputId": "3c7fbdab-64e4-434e-ca13-8dbe06ef74f6"
      },
      "outputs": [
        {
          "output_type": "stream",
          "name": "stdout",
          "text": [
            "this is 02\n",
            "this is 24\n",
            "this is 2024\n"
          ]
        }
      ],
      "source": [
        "date= \"02/24/2024\"\n",
        "month= date[0:2]\n",
        "day= date[3:5]\n",
        "year= date[6:]\n",
        "print(\"this is\",month)\n",
        "print(\"this is\",day)\n",
        "print(\"this is\",year)\n"
      ]
    },
    {
      "cell_type": "code",
      "source": [
        "date= input('Enter date (MM/DD/YYYY):')\n",
        "\n",
        "month= date[0:2]\n",
        "day= date[3:5]\n",
        "year= date[6:10]\n",
        "print(month, day, year)"
      ],
      "metadata": {
        "colab": {
          "base_uri": "https://localhost:8080/"
        },
        "id": "ntcR3a8c0_aF",
        "outputId": "c430f802-05f6-4ba4-cb58-14e506fe07d2"
      },
      "execution_count": null,
      "outputs": [
        {
          "output_type": "stream",
          "name": "stdout",
          "text": [
            "Enter date (MM/DD/YYYY):02/21/2024\n",
            "02 21 2024\n"
          ]
        }
      ]
    }
  ]
}